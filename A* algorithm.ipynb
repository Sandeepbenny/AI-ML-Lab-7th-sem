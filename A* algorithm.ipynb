{
 "cells": [
  {
   "cell_type": "code",
   "execution_count": 4,
   "id": "bf6046eb",
   "metadata": {},
   "outputs": [
    {
     "name": "stdout",
     "output_type": "stream",
     "text": [
      "Path found:['S', 'A', 'C', 'G']\n"
     ]
    },
    {
     "data": {
      "text/plain": [
       "['S', 'A', 'C', 'G']"
      ]
     },
     "execution_count": 4,
     "metadata": {},
     "output_type": "execute_result"
    }
   ],
   "source": [
    "from collections import deque\n",
    "\n",
    "class Graph:\n",
    "    def __init__(self,adjac_lis):\n",
    "        self.adjac_lis = adjac_lis\n",
    "        \n",
    "    def get_neighbors(self,v):\n",
    "        return self.adjac_lis[v]\n",
    "    \n",
    "    def h(self, n):\n",
    "        H = {\n",
    "            'S':5,\n",
    "            'A':3,\n",
    "            'B':4,\n",
    "            'C':2,\n",
    "            'D':6,\n",
    "            'G':0\n",
    "        }\n",
    "        return H[n]\n",
    "\n",
    "    def a_star_algorithm(self,start,stop):\n",
    "        open_lst = set([start])\n",
    "        closed_lst = set([])\n",
    "\n",
    "        poo = {}\n",
    "        poo[start] = 0\n",
    "        par = {}\n",
    "        par[start] = start\n",
    "\n",
    "        while len(open_lst) > 0:\n",
    "            n = None\n",
    "            \n",
    "            for v in open_lst:\n",
    "                if n == None or poo[v] + self.h(v) < poo[n] + self.h(n):\n",
    "                    n = v;\n",
    "                    \n",
    "            if n == None:\n",
    "                print('Path does not exist!')\n",
    "                return None\n",
    "            if n == stop:\n",
    "                reconst_path = []\n",
    "                \n",
    "                while par[n] != n:\n",
    "                    reconst_path.append(n)\n",
    "                    n = par[n]\n",
    "                \n",
    "                reconst_path.append(start)\n",
    "                \n",
    "                reconst_path.reverse()\n",
    "                \n",
    "                print('Path found:{}'.format(reconst_path))\n",
    "                return reconst_path\n",
    "            for(m,weight)in self.get_neighbors(n):\n",
    "                if m not in open_lst and m not in closed_lst:\n",
    "                    open_lst.add(m)\n",
    "                    par[m] = n\n",
    "                    poo[m] = poo[n] + weight\n",
    "                else:\n",
    "                    if poo[m] > poo[n] + weight:\n",
    "                        poo[m] = poo[n] + weight\n",
    "                        par[m] = n\n",
    "                        \n",
    "                        if m in closed_lst:\n",
    "                            closed_lst.remove(m)\n",
    "                            open_lst.add(m)\n",
    "            open_lst.remove(n)\n",
    "            closed_lst.add(n)\n",
    "        print('path does not exists!')\n",
    "        return None\n",
    "        \n",
    "adjac_lis = {\n",
    "    'S':[('A',1),('G',10)],\n",
    "    'A':[('B',2),('C',1)],\n",
    "    'B':[('D',3)],\n",
    "    'C':[('D',3),('G',4)],\n",
    "    'D':[('G',2)]\n",
    "}\n",
    "\n",
    "graph1 = Graph(adjac_lis)\n",
    "graph1.a_star_algorithm('S', 'G')"
   ]
  },
  {
   "cell_type": "code",
   "execution_count": null,
   "id": "3eccb8ae",
   "metadata": {},
   "outputs": [],
   "source": []
  }
 ],
 "metadata": {
  "kernelspec": {
   "display_name": "Python 3 (ipykernel)",
   "language": "python",
   "name": "python3"
  },
  "language_info": {
   "codemirror_mode": {
    "name": "ipython",
    "version": 3
   },
   "file_extension": ".py",
   "mimetype": "text/x-python",
   "name": "python",
   "nbconvert_exporter": "python",
   "pygments_lexer": "ipython3",
   "version": "3.8.10"
  }
 },
 "nbformat": 4,
 "nbformat_minor": 5
}
